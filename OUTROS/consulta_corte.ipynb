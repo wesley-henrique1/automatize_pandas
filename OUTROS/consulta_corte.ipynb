{
 "cells": [
  {
   "cell_type": "code",
   "execution_count": 1,
   "id": "1cdb63ad",
   "metadata": {},
   "outputs": [
    {
     "data": {
      "text/plain": [
       "Index(['DATA', 'CARR.', 'COD', 'DESCRIÇÃO', 'PEDIDO', 'QTDE ORIG', 'VL. ORIG',\n",
       "       'RUA', 'PREDIO', 'APTO', 'ESTOQUE', 'QTDE CORTE', 'VL CORTE', 'HORA',\n",
       "       'MIN', 'MOTIVO', 'COD FUNC', 'FUNCIONARIO', 'CONCAT', 'COUNT', 'IF',\n",
       "       'MÊS', 'TURNO'],\n",
       "      dtype='object')"
      ]
     },
     "metadata": {},
     "output_type": "display_data"
    },
    {
     "data": {
      "text/plain": [
       "Index(['Código', 'Descrição ', 'Estoque', 'Qtde Pedida',\n",
       "       'Bloqueado(Qt.Bloq.-Qt.Avaria)', 'Qt.Avaria', 'Reservado',\n",
       "       'Disponível'],\n",
       "      dtype='object')"
      ]
     },
     "metadata": {},
     "output_type": "display_data"
    }
   ],
   "source": [
    "from path_arquivos import *\n",
    "import pandas as pd\n",
    "caminho = r'z:\\1 - CD Dia\\4 - Equipe PCL\\6.1 - Inteligência Logística\\6.1.1 Analise de Cortes\\2025\\Acompanhamento de produtos cortados.xlsx'\n",
    "\n",
    "df_67 = pd.read_excel(caminho, sheet_name= 'CORTE 2025')\n",
    "df_86 = pd.read_excel(ar_xls.ar_86, usecols= ['Código', 'Descrição ', 'Estoque', 'Qtde Pedida', 'Bloqueado(Qt.Bloq.-Qt.Avaria)', 'Qt.Avaria', 'Reservado', 'Disponível'])\n",
    "\n",
    "display(df_67.columns)\n",
    "display(df_86.columns)"
   ]
  },
  {
   "cell_type": "markdown",
   "id": "1c6ecdac",
   "metadata": {},
   "source": [
    "CORPO DO SCRIPTS"
   ]
  },
  {
   "cell_type": "code",
   "execution_count": 4,
   "id": "8c1640ae",
   "metadata": {},
   "outputs": [
    {
     "data": {
      "text/html": [
       "<div>\n",
       "<style scoped>\n",
       "    .dataframe tbody tr th:only-of-type {\n",
       "        vertical-align: middle;\n",
       "    }\n",
       "\n",
       "    .dataframe tbody tr th {\n",
       "        vertical-align: top;\n",
       "    }\n",
       "\n",
       "    .dataframe thead th {\n",
       "        text-align: right;\n",
       "    }\n",
       "</style>\n",
       "<table border=\"1\" class=\"dataframe\">\n",
       "  <thead>\n",
       "    <tr style=\"text-align: right;\">\n",
       "      <th></th>\n",
       "      <th>COD</th>\n",
       "      <th>QTDE_DIAS</th>\n",
       "      <th>TOTAL_CORTE</th>\n",
       "      <th>QTDE_CORTE</th>\n",
       "      <th>Descrição</th>\n",
       "      <th>Estoque</th>\n",
       "      <th>BLOQUEADO</th>\n",
       "      <th>var</th>\n",
       "    </tr>\n",
       "  </thead>\n",
       "  <tbody>\n",
       "    <tr>\n",
       "      <th>1</th>\n",
       "      <td>464141</td>\n",
       "      <td>3</td>\n",
       "      <td>5224.50</td>\n",
       "      <td>90.0</td>\n",
       "      <td>CREME LEITE TIROL 200GR</td>\n",
       "      <td>378.0</td>\n",
       "      <td>14.0</td>\n",
       "      <td>-364.0</td>\n",
       "    </tr>\n",
       "    <tr>\n",
       "      <th>3</th>\n",
       "      <td>468973</td>\n",
       "      <td>2</td>\n",
       "      <td>718.45</td>\n",
       "      <td>133.0</td>\n",
       "      <td>ACHOC NESCAU 200GR</td>\n",
       "      <td>226.0</td>\n",
       "      <td>3.0</td>\n",
       "      <td>-223.0</td>\n",
       "    </tr>\n",
       "    <tr>\n",
       "      <th>4</th>\n",
       "      <td>470878</td>\n",
       "      <td>2</td>\n",
       "      <td>698.87</td>\n",
       "      <td>56.0</td>\n",
       "      <td>FITA ADES EMPAC TEK BOND TRANSP 48MMX40M</td>\n",
       "      <td>1200.0</td>\n",
       "      <td>0.0</td>\n",
       "      <td>-1200.0</td>\n",
       "    </tr>\n",
       "    <tr>\n",
       "      <th>8</th>\n",
       "      <td>450655</td>\n",
       "      <td>2</td>\n",
       "      <td>303.98</td>\n",
       "      <td>8.0</td>\n",
       "      <td>SAB LUX 125GR BUQUE DE JASMIM</td>\n",
       "      <td>580.0</td>\n",
       "      <td>1.0</td>\n",
       "      <td>-579.0</td>\n",
       "    </tr>\n",
       "    <tr>\n",
       "      <th>17</th>\n",
       "      <td>280000</td>\n",
       "      <td>2</td>\n",
       "      <td>182.79</td>\n",
       "      <td>2.0</td>\n",
       "      <td>LIMP VEJA 500ML M USO ORIGINAL</td>\n",
       "      <td>7.0</td>\n",
       "      <td>0.0</td>\n",
       "      <td>-7.0</td>\n",
       "    </tr>\n",
       "    <tr>\n",
       "      <th>18</th>\n",
       "      <td>428511</td>\n",
       "      <td>2</td>\n",
       "      <td>29.04</td>\n",
       "      <td>2.0</td>\n",
       "      <td>ESPONJA 3M LIMPEZA SC BRITE NAO RISCA</td>\n",
       "      <td>366.0</td>\n",
       "      <td>0.0</td>\n",
       "      <td>-366.0</td>\n",
       "    </tr>\n",
       "    <tr>\n",
       "      <th>22</th>\n",
       "      <td>474139</td>\n",
       "      <td>2</td>\n",
       "      <td>85.35</td>\n",
       "      <td>2.0</td>\n",
       "      <td>SAND HAV FEM SLIM GLITTER II CANYON 37/8</td>\n",
       "      <td>13.0</td>\n",
       "      <td>0.0</td>\n",
       "      <td>-13.0</td>\n",
       "    </tr>\n",
       "  </tbody>\n",
       "</table>\n",
       "</div>"
      ],
      "text/plain": [
       "       COD  QTDE_DIAS  TOTAL_CORTE  QTDE_CORTE  \\\n",
       "1   464141          3      5224.50        90.0   \n",
       "3   468973          2       718.45       133.0   \n",
       "4   470878          2       698.87        56.0   \n",
       "8   450655          2       303.98         8.0   \n",
       "17  280000          2       182.79         2.0   \n",
       "18  428511          2        29.04         2.0   \n",
       "22  474139          2        85.35         2.0   \n",
       "\n",
       "                                  Descrição   Estoque  BLOQUEADO     var  \n",
       "1                    CREME LEITE TIROL 200GR    378.0       14.0  -364.0  \n",
       "3                         ACHOC NESCAU 200GR    226.0        3.0  -223.0  \n",
       "4   FITA ADES EMPAC TEK BOND TRANSP 48MMX40M   1200.0        0.0 -1200.0  \n",
       "8              SAB LUX 125GR BUQUE DE JASMIM    580.0        1.0  -579.0  \n",
       "17            LIMP VEJA 500ML M USO ORIGINAL      7.0        0.0    -7.0  \n",
       "18     ESPONJA 3M LIMPEZA SC BRITE NAO RISCA    366.0        0.0  -366.0  \n",
       "22  SAND HAV FEM SLIM GLITTER II CANYON 37/8     13.0        0.0   -13.0  "
      ]
     },
     "metadata": {},
     "output_type": "display_data"
    }
   ],
   "source": [
    "df_67 = df_67.loc[df_67['MÊS'] == 'setembro']\n",
    "df_67['HORAS'] = pd.to_datetime(df_67['HORA'].astype(str) + \":\" + df_67['MIN'].astype(str), format='%H:%M').dt.time\n",
    "\n",
    "var_corte = df_67.groupby('COD').agg(\n",
    "    QTDE_DIAS = ('DATA', 'nunique'),\n",
    "    TOTAL_CORTE = ('VL CORTE', 'sum'),\n",
    "    QTDE_CORTE = ('QTDE CORTE', 'sum')\n",
    ").reset_index().sort_values(by=['QTDE_DIAS', 'QTDE_CORTE'], ascending= False)\n",
    "df_86['BLOQUEADO'] = df_86['Bloqueado(Qt.Bloq.-Qt.Avaria)'].fillna(0).astype(int) + df_86['Qt.Avaria'].fillna(0).astype(int)\n",
    "var_86 = df_86[['Código', 'Descrição ', 'Estoque', 'BLOQUEADO']].copy()\n",
    "df = var_corte.merge(var_86, left_on= 'COD', right_on= 'Código', how= 'left').drop(columns='Código')\n",
    "df['var'] = df['BLOQUEADO'] - df['Estoque']\n",
    "\n",
    "validar = df.loc[(df['var'] < 0) & (df['QTDE_DIAS'] > 1)]\n",
    "\n",
    "\n",
    "display(validar)"
   ]
  },
  {
   "cell_type": "code",
   "execution_count": 5,
   "id": "94e22145",
   "metadata": {},
   "outputs": [
    {
     "data": {
      "text/html": [
       "<div>\n",
       "<style scoped>\n",
       "    .dataframe tbody tr th:only-of-type {\n",
       "        vertical-align: middle;\n",
       "    }\n",
       "\n",
       "    .dataframe tbody tr th {\n",
       "        vertical-align: top;\n",
       "    }\n",
       "\n",
       "    .dataframe thead th {\n",
       "        text-align: right;\n",
       "    }\n",
       "</style>\n",
       "<table border=\"1\" class=\"dataframe\">\n",
       "  <thead>\n",
       "    <tr style=\"text-align: right;\">\n",
       "      <th></th>\n",
       "      <th>DATA</th>\n",
       "      <th>HORAS</th>\n",
       "      <th>COD</th>\n",
       "      <th>DESCRIÇÃO</th>\n",
       "      <th>MOTIVO</th>\n",
       "      <th>FUNCIONARIO</th>\n",
       "    </tr>\n",
       "  </thead>\n",
       "  <tbody>\n",
       "    <tr>\n",
       "      <th>14078</th>\n",
       "      <td>2025-09-03</td>\n",
       "      <td>02:13:00</td>\n",
       "      <td>280000</td>\n",
       "      <td>LIMP VEJA 500ML M USO ORIGINAL</td>\n",
       "      <td>QUANTIDADE INFERIOR DA OS</td>\n",
       "      <td>ALEANDRA TRINDADE SOUSA</td>\n",
       "    </tr>\n",
       "    <tr>\n",
       "      <th>14057</th>\n",
       "      <td>2025-09-02</td>\n",
       "      <td>06:06:00</td>\n",
       "      <td>280000</td>\n",
       "      <td>LIMP VEJA 500ML M USO ORIGINAL</td>\n",
       "      <td>QUANTIDADE INFERIOR DA OS</td>\n",
       "      <td>ALEANDRA TRINDADE SOUSA</td>\n",
       "    </tr>\n",
       "  </tbody>\n",
       "</table>\n",
       "</div>"
      ],
      "text/plain": [
       "            DATA     HORAS     COD                       DESCRIÇÃO  \\\n",
       "14078 2025-09-03  02:13:00  280000  LIMP VEJA 500ML M USO ORIGINAL   \n",
       "14057 2025-09-02  06:06:00  280000  LIMP VEJA 500ML M USO ORIGINAL   \n",
       "\n",
       "                          MOTIVO              FUNCIONARIO  \n",
       "14078  QUANTIDADE INFERIOR DA OS  ALEANDRA TRINDADE SOUSA  \n",
       "14057  QUANTIDADE INFERIOR DA OS  ALEANDRA TRINDADE SOUSA  "
      ]
     },
     "metadata": {},
     "output_type": "display_data"
    }
   ],
   "source": [
    "\n",
    "comp = df_67.loc[df_67['COD'] == 280000]\n",
    "comp = comp[['DATA','HORAS', 'COD', 'DESCRIÇÃO', 'MOTIVO', 'FUNCIONARIO']].sort_values(by=['DATA','HORAS'], ascending= False)\n",
    "display(comp)"
   ]
  }
 ],
 "metadata": {
  "kernelspec": {
   "display_name": ".venv",
   "language": "python",
   "name": "python3"
  },
  "language_info": {
   "codemirror_mode": {
    "name": "ipython",
    "version": 3
   },
   "file_extension": ".py",
   "mimetype": "text/x-python",
   "name": "python",
   "nbconvert_exporter": "python",
   "pygments_lexer": "ipython3",
   "version": "3.13.7"
  }
 },
 "nbformat": 4,
 "nbformat_minor": 5
}
