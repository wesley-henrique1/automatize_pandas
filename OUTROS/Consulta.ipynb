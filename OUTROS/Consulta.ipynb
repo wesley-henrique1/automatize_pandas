{
 "cells": [
  {
   "cell_type": "markdown",
   "id": "a07ea294",
   "metadata": {},
   "source": [
    "CELULA DE IMPORT"
   ]
  },
  {
   "cell_type": "code",
   "execution_count": 3,
   "id": "8396623a",
   "metadata": {},
   "outputs": [
    {
     "name": "stderr",
     "output_type": "stream",
     "text": [
      "c:\\WS_OLIVEIRA\\SCRIPTS\\.venv\\Lib\\site-packages\\openpyxl\\styles\\stylesheet.py:237: UserWarning: Workbook contains no default style, apply openpyxl's default\n",
      "  warn(\"Workbook contains no default style, apply openpyxl's default\")\n"
     ]
    }
   ],
   "source": [
    "from path_arquivos import *\n",
    "import pandas as pd\n",
    "\n",
    "df_pd = pd.read_excel(ar_xlsx.ar_28)\n",
    "df_func = pd.read_excel(ar_xlsx.ar_func, sheet_name= 'FUNCIONARIOS')"
   ]
  },
  {
   "cell_type": "code",
   "execution_count": 6,
   "id": "593b1236",
   "metadata": {},
   "outputs": [
    {
     "data": {
      "text/plain": [
       "Index(['MATRICULA', 'NOME', 'CHAPA', 'TIPO'], dtype='object')"
      ]
     },
     "metadata": {},
     "output_type": "display_data"
    },
    {
     "data": {
      "text/plain": [
       "Index(['CODFILIAL', 'NUMOS', 'DATA', 'HORA', 'CODPROD', 'DESCRICAO',\n",
       "       'ENDERECO_ORIG', 'RUA', 'PREDIO', 'NIVEL', 'APTO', 'ENDERECO_DEST',\n",
       "       'RUA_1', 'PREDIO_1', 'NIVEL_1', 'APTO_1', 'QT', 'NUMTRANSWMS',\n",
       "       'CODROTINA', 'POSICAO', 'CODFUNCGER', 'FUNCGER', 'DTFIMOS', 'CODFUNCOS',\n",
       "       'FUNCOSFIM', 'DTESTORNO', 'CODFUNCESTORNO', 'FUNCESTORNO', 'Tipo O.S.',\n",
       "       'TIPOABAST'],\n",
       "      dtype='object')"
      ]
     },
     "metadata": {},
     "output_type": "display_data"
    }
   ],
   "source": [
    "display(df_func.columns)\n",
    "display(df_pd.columns)"
   ]
  },
  {
   "cell_type": "code",
   "execution_count": null,
   "id": "7bbdf5b8",
   "metadata": {},
   "outputs": [],
   "source": []
  }
 ],
 "metadata": {
  "kernelspec": {
   "display_name": ".venv",
   "language": "python",
   "name": "python3"
  },
  "language_info": {
   "codemirror_mode": {
    "name": "ipython",
    "version": 3
   },
   "file_extension": ".py",
   "mimetype": "text/x-python",
   "name": "python",
   "nbconvert_exporter": "python",
   "pygments_lexer": "ipython3",
   "version": "3.13.7"
  }
 },
 "nbformat": 4,
 "nbformat_minor": 5
}
