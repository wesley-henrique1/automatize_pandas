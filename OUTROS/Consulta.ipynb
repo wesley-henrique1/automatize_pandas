{
 "cells": [
  {
   "cell_type": "markdown",
   "id": "a07ea294",
   "metadata": {},
   "source": [
    "CELULA DE IMPORT"
   ]
  },
  {
   "cell_type": "code",
   "execution_count": null,
   "id": "8396623a",
   "metadata": {},
   "outputs": [],
   "source": [
    "from path_arquivos import *\n",
    "import pandas as pd\n",
    "\n",
    "df_28 = pd.read_excel(ar_xlsx.ar_28, usecols= ['CODPROD', 'DESCRICAO', 'ENDERECO_ORIG', 'RUA', 'PREDIO', 'NIVEL', 'APTO','RUA_1', 'PREDIO_1', 'NIVEL_1', 'APTO_1', 'QT', 'POSICAO', 'CODFUNCOS', 'CODFUNCESTORNO', 'Tipo O.S.'])\n",
    "df_28 = df_28.loc[(df_28['NIVEL'].between(2,8)) & (df_28['Tipo O.S.'] == '58 - Transferencia de Para Vertical')]\n",
    "df_28[['CODFUNCESTORNO', 'CODFUNCOS']] = df_28[['CODFUNCESTORNO', 'CODFUNCOS']].fillna(0).astype(int)\n",
    "df_28['ID_COD'] = df_28['ENDERECO_ORIG'].astype(str) + \" - \" + df_28['CODPROD'].astype(str)\n",
    "\n",
    "df_aereo = pd.read_csv(ar_csv.ar_end, header= None, names= col_name.cEnd)\n",
    "df_aereo = df_aereo[['COD_END', 'COD', 'QTDE', 'ENTRADA', 'SAIDA']]\n",
    "df_aereo['ID_COD'] = df_aereo['COD_END'].astype(str) + \" - \" + df_aereo['COD'].astype(str)\n",
    "\n",
    "df = df_28.merge(df_aereo, left_on= 'ID_COD', right_on= 'ID_COD', how= 'left').fillna(0).drop(columns=['COD_END', 'COD'])"
   ]
  },
  {
   "cell_type": "markdown",
   "id": "47846bc9",
   "metadata": {},
   "source": [
    "VALIDAÇÃO"
   ]
  },
  {
   "cell_type": "code",
   "execution_count": 40,
   "id": "94d76d99",
   "metadata": {},
   "outputs": [
    {
     "data": {
      "text/plain": [
       "Index(['CODPROD', 'DESCRICAO', 'ENDERECO_ORIG', 'RUA', 'PREDIO', 'NIVEL',\n",
       "       'APTO', 'RUA_1', 'PREDIO_1', 'NIVEL_1', 'APTO_1', 'QT', 'POSICAO',\n",
       "       'CODFUNCOS', 'CODFUNCESTORNO', 'Tipo O.S.', 'ID_COD', 'QTDE', 'ENTRADA',\n",
       "       'SAIDA'],\n",
       "      dtype='object')"
      ]
     },
     "metadata": {},
     "output_type": "display_data"
    },
    {
     "data": {
      "text/plain": [
       "CODPROD             int64\n",
       "DESCRICAO          object\n",
       "ENDERECO_ORIG       int64\n",
       "RUA                 int64\n",
       "PREDIO              int64\n",
       "NIVEL               int64\n",
       "APTO                int64\n",
       "RUA_1               int64\n",
       "PREDIO_1            int64\n",
       "NIVEL_1             int64\n",
       "APTO_1              int64\n",
       "QT                float64\n",
       "POSICAO            object\n",
       "CODFUNCOS           int64\n",
       "CODFUNCESTORNO      int64\n",
       "Tipo O.S.          object\n",
       "ID_COD             object\n",
       "QTDE              float64\n",
       "ENTRADA           float64\n",
       "SAIDA             float64\n",
       "dtype: object"
      ]
     },
     "metadata": {},
     "output_type": "display_data"
    },
    {
     "data": {
      "text/html": [
       "<div>\n",
       "<style scoped>\n",
       "    .dataframe tbody tr th:only-of-type {\n",
       "        vertical-align: middle;\n",
       "    }\n",
       "\n",
       "    .dataframe tbody tr th {\n",
       "        vertical-align: top;\n",
       "    }\n",
       "\n",
       "    .dataframe thead th {\n",
       "        text-align: right;\n",
       "    }\n",
       "</style>\n",
       "<table border=\"1\" class=\"dataframe\">\n",
       "  <thead>\n",
       "    <tr style=\"text-align: right;\">\n",
       "      <th></th>\n",
       "      <th>total</th>\n",
       "    </tr>\n",
       "    <tr>\n",
       "      <th>ID_COD</th>\n",
       "      <th></th>\n",
       "    </tr>\n",
       "  </thead>\n",
       "  <tbody>\n",
       "    <tr>\n",
       "      <th>1000024 - 451190</th>\n",
       "      <td>0.0</td>\n",
       "    </tr>\n",
       "    <tr>\n",
       "      <th>1000034 - 420520</th>\n",
       "      <td>18.0</td>\n",
       "    </tr>\n",
       "    <tr>\n",
       "      <th>1000040 - 455830</th>\n",
       "      <td>0.0</td>\n",
       "    </tr>\n",
       "    <tr>\n",
       "      <th>1000051 - 451190</th>\n",
       "      <td>0.0</td>\n",
       "    </tr>\n",
       "    <tr>\n",
       "      <th>1000063 - 415842</th>\n",
       "      <td>0.0</td>\n",
       "    </tr>\n",
       "    <tr>\n",
       "      <th>...</th>\n",
       "      <td>...</td>\n",
       "    </tr>\n",
       "    <tr>\n",
       "      <th>1215777 - 444861</th>\n",
       "      <td>0.0</td>\n",
       "    </tr>\n",
       "    <tr>\n",
       "      <th>1215778 - 76601</th>\n",
       "      <td>0.0</td>\n",
       "    </tr>\n",
       "    <tr>\n",
       "      <th>1216087 - 474150</th>\n",
       "      <td>864.0</td>\n",
       "    </tr>\n",
       "    <tr>\n",
       "      <th>1216213 - 451323</th>\n",
       "      <td>0.0</td>\n",
       "    </tr>\n",
       "    <tr>\n",
       "      <th>1216464 - 453098</th>\n",
       "      <td>0.0</td>\n",
       "    </tr>\n",
       "  </tbody>\n",
       "</table>\n",
       "<p>1026 rows × 1 columns</p>\n",
       "</div>"
      ],
      "text/plain": [
       "                  total\n",
       "ID_COD                 \n",
       "1000024 - 451190    0.0\n",
       "1000034 - 420520   18.0\n",
       "1000040 - 455830    0.0\n",
       "1000051 - 451190    0.0\n",
       "1000063 - 415842    0.0\n",
       "...                 ...\n",
       "1215777 - 444861    0.0\n",
       "1215778 - 76601     0.0\n",
       "1216087 - 474150  864.0\n",
       "1216213 - 451323    0.0\n",
       "1216464 - 453098    0.0\n",
       "\n",
       "[1026 rows x 1 columns]"
      ]
     },
     "metadata": {},
     "output_type": "display_data"
    }
   ],
   "source": [
    "x = df.groupby('ID_COD').agg(\n",
    "    total = ('QTDE', 'sum')\n",
    ")\n",
    "\n",
    "display(df.columns)\n",
    "display(df.dtypes)\n",
    "display(x)"
   ]
  }
 ],
 "metadata": {
  "kernelspec": {
   "display_name": ".venv",
   "language": "python",
   "name": "python3"
  },
  "language_info": {
   "codemirror_mode": {
    "name": "ipython",
    "version": 3
   },
   "file_extension": ".py",
   "mimetype": "text/x-python",
   "name": "python",
   "nbconvert_exporter": "python",
   "pygments_lexer": "ipython3",
   "version": "3.13.7"
  }
 },
 "nbformat": 4,
 "nbformat_minor": 5
}
