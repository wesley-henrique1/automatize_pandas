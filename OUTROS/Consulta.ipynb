{
 "cells": [
  {
   "cell_type": "markdown",
   "id": "a07ea294",
   "metadata": {},
   "source": [
    "CELULA DE IMPORT"
   ]
  },
  {
   "cell_type": "code",
   "execution_count": 49,
   "id": "8396623a",
   "metadata": {},
   "outputs": [],
   "source": [
    "from path_arquivos import *\n",
    "import pandas as pd\n",
    "\n",
    "df = pd.read_excel(output.val_baixa, sheet_name= 'FIM_MESA')"
   ]
  },
  {
   "cell_type": "code",
   "execution_count": null,
   "id": "94d76d99",
   "metadata": {},
   "outputs": [],
   "source": []
  }
 ],
 "metadata": {
  "kernelspec": {
   "display_name": ".venv",
   "language": "python",
   "name": "python3"
  },
  "language_info": {
   "codemirror_mode": {
    "name": "ipython",
    "version": 3
   },
   "file_extension": ".py",
   "mimetype": "text/x-python",
   "name": "python",
   "nbconvert_exporter": "python",
   "pygments_lexer": "ipython3",
   "version": "3.13.7"
  }
 },
 "nbformat": 4,
 "nbformat_minor": 5
}
