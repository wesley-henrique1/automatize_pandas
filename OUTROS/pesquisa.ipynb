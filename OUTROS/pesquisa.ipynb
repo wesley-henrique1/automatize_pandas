{
 "cells": [
  {
   "cell_type": "code",
   "execution_count": 23,
   "id": "44118fba",
   "metadata": {},
   "outputs": [],
   "source": [
    "from path_arquivos import *\n",
    "import pandas as pd\n",
    "import numpy as np\n",
    "import glob\n",
    "import os"
   ]
  },
  {
   "cell_type": "code",
   "execution_count": 24,
   "id": "a0f6cf24",
   "metadata": {},
   "outputs": [
    {
     "name": "stderr",
     "output_type": "stream",
     "text": [
      "c:\\WS_OLIVEIRA\\SCRIPTS\\.venv\\Lib\\site-packages\\openpyxl\\styles\\stylesheet.py:237: UserWarning: Workbook contains no default style, apply openpyxl's default\n",
      "  warn(\"Workbook contains no default style, apply openpyxl's default\")\n",
      "c:\\WS_OLIVEIRA\\SCRIPTS\\.venv\\Lib\\site-packages\\openpyxl\\styles\\stylesheet.py:237: UserWarning: Workbook contains no default style, apply openpyxl's default\n",
      "  warn(\"Workbook contains no default style, apply openpyxl's default\")\n"
     ]
    }
   ],
   "source": [
    "def directory(files, argumento):\n",
    "    directory = glob.glob(os.path.join(files, argumento))\n",
    "    lista = []\n",
    "    for arquivo in directory:\n",
    "        x = pd.read_csv(arquivo, header= None)\n",
    "        lista.append(x)\n",
    "    df_temp = pd.concat(lista, axis= 0, ignore_index= True)\n",
    "    return df_temp\n",
    "\n",
    "df_sug = directory(pasta.p_82, 'DEP*.txt')\n",
    "df_mov = directory(pasta.p_82, 'MOV*.txt')\n",
    "df_prod = pd.read_excel(ar_xlsx.ar_96, usecols=['CODPROD','DESCRICAO', 'QTUNITCX', 'QTTOTPAL', 'OBS2','RUA', 'PREDIO', 'APTO'])\n",
    "df_acesso = pd.read_excel(ar_xlsx.ar_60, usecols= ['CODPROD','QTOS', 'QT'])\n"
   ]
  },
  {
   "cell_type": "code",
   "execution_count": null,
   "id": "a3247728",
   "metadata": {},
   "outputs": [],
   "source": [
    "\n",
    "df_sug.columns = col_name.c82\n",
    "df_mov.columns = col_name.cMovi\n",
    "\n",
    "df_prod = df_prod.loc[df_prod['RUA'].between(1,39)]\n",
    "df_prod['OBS2'] = df_prod['OBS2'].fillna(\"Ativos\")\n",
    "df_prod[\"PRODUTO\"] = df_prod['CODPROD'].astype(str)\n",
    "\n",
    "x = df_acesso.groupby('CODPROD').agg(\n",
    "ACESSO = (\"QTOS\", \"sum\")\n",
    ").reset_index()\n",
    "\n",
    "df = df_sug.merge(df_prod, left_on= 'COD', right_on= 'CODPROD', how= 'left')\n",
    "df = df.merge(x, left_on='COD', right_on='CODPROD', how= 'left')\n",
    "df = df.merge(df_mov, left_on='COD', right_on='COD', how=\"left\")\n",
    "\n",
    "df[['COM FATOR', 'QTTOTPAL', 'CAP']] = df[['COM FATOR', 'QTTOTPAL','CAP']].fillna(0)\n",
    "df['PL_SUG'] = df['COM FATOR'].astype(int) / df['QTTOTPAL'].astype(int)\n",
    "df['PL_CAP'] = df['CAP'].astype(int) / df['QTTOTPAL'].astype(int)\n",
    "df['CONTAGEM'] = \n",
    "drop_col = []"
   ]
  },
  {
   "cell_type": "code",
   "execution_count": 30,
   "id": "8c758f90",
   "metadata": {},
   "outputs": [
    {
     "data": {
      "text/plain": [
       "Index(['COD', 'DESCRIÇÃO', 'EMBALAGEM_x', 'UNID.', 'DEP', 'RUA_x', 'PREDIO_x',\n",
       "       'NIVEL', 'APTO_x', 'MÊS 1', 'MÊS 2', 'MÊS 3', 'TIPO', 'CAP', '1 DIA',\n",
       "       'COM FATOR', 'VARIAÇÃO', '%_x', 'CODPROD_x', 'DESCRICAO', 'OBS2',\n",
       "       'QTUNITCX', 'QTTOTPAL', 'RUA_y', 'PREDIO_y', 'APTO_y', 'PRODUTO',\n",
       "       'CODPROD_y', 'ACESSO', 'DESC', 'EMBALAGEM_y', 'UNID', 'MOVI', '%_y',\n",
       "       '%_ACUM', 'CLASSE', 'PL_SUG', 'PL_CAP'],\n",
       "      dtype='object')"
      ]
     },
     "metadata": {},
     "output_type": "display_data"
    }
   ],
   "source": [
    "display(df.columns)"
   ]
  }
 ],
 "metadata": {
  "kernelspec": {
   "display_name": ".venv",
   "language": "python",
   "name": "python3"
  },
  "language_info": {
   "codemirror_mode": {
    "name": "ipython",
    "version": 3
   },
   "file_extension": ".py",
   "mimetype": "text/x-python",
   "name": "python",
   "nbconvert_exporter": "python",
   "pygments_lexer": "ipython3",
   "version": "3.13.7"
  }
 },
 "nbformat": 4,
 "nbformat_minor": 5
}
