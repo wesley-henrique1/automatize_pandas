{
 "cells": [
  {
   "cell_type": "markdown",
   "id": "70e71b22",
   "metadata": {},
   "source": [
    "IMPORTAÇÃO DE MODULOS"
   ]
  },
  {
   "cell_type": "code",
   "execution_count": 2,
   "id": "96e4f806",
   "metadata": {},
   "outputs": [],
   "source": [
    "from path_arquivos import *\n",
    "import pandas as pd\n",
    "\n",
    "caminho = r'c:\\WS_OLIVEIRA\\OUTPUT\\analitico_baixa.xlsx'\n"
   ]
  },
  {
   "cell_type": "markdown",
   "id": "1c82fc0f",
   "metadata": {},
   "source": [
    "LEITURA DOS DATAFRAMES"
   ]
  },
  {
   "cell_type": "code",
   "execution_count": 3,
   "id": "f038d8e0",
   "metadata": {},
   "outputs": [],
   "source": [
    "df = pd.read_excel(caminho, sheet_name= 'FIM_MESA')"
   ]
  },
  {
   "cell_type": "markdown",
   "id": "14a5a666",
   "metadata": {},
   "source": [
    "CORPO DO SCRIPT"
   ]
  },
  {
   "cell_type": "code",
   "execution_count": null,
   "id": "b1bdcf94",
   "metadata": {},
   "outputs": [],
   "source": [
    "lista_fim = [47335286, 47336582, 47336594, 47341637, 47336912,47336817, 47336819,47341629, 47337359, 47344447]\n",
    "lista_pd = []\n",
    "fim = df.loc[df['NUMOS'].isin(lista)]"
   ]
  },
  {
   "cell_type": "markdown",
   "id": "8e8a2b7f",
   "metadata": {},
   "source": [
    "VISUALIZAÇÃO"
   ]
  },
  {
   "cell_type": "code",
   "execution_count": null,
   "id": "7a8f9de6",
   "metadata": {},
   "outputs": [],
   "source": [
    "fim.to_excel(output.jupyter, index=False, sheet_name= \"FIM_MESA\")"
   ]
  }
 ],
 "metadata": {
  "kernelspec": {
   "display_name": ".venv",
   "language": "python",
   "name": "python3"
  },
  "language_info": {
   "codemirror_mode": {
    "name": "ipython",
    "version": 3
   },
   "file_extension": ".py",
   "mimetype": "text/x-python",
   "name": "python",
   "nbconvert_exporter": "python",
   "pygments_lexer": "ipython3",
   "version": "3.13.7"
  }
 },
 "nbformat": 4,
 "nbformat_minor": 5
}
