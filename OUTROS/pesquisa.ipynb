{
 "cells": [
  {
   "cell_type": "code",
   "execution_count": 34,
   "id": "44118fba",
   "metadata": {},
   "outputs": [],
   "source": [
    "from path_arquivos import *\n",
    "import pandas as pd\n",
    "import numpy as np"
   ]
  },
  {
   "cell_type": "code",
   "execution_count": 35,
   "id": "9950b5ab",
   "metadata": {},
   "outputs": [
    {
     "name": "stderr",
     "output_type": "stream",
     "text": [
      "c:\\WS_OLIVEIRA\\SCRIPTS\\.venv\\Lib\\site-packages\\openpyxl\\styles\\stylesheet.py:237: UserWarning: Workbook contains no default style, apply openpyxl's default\n",
      "  warn(\"Workbook contains no default style, apply openpyxl's default\")\n"
     ]
    }
   ],
   "source": [
    "col_totvs = ['DATA', 'CONFERENCIA', 'PRODUTO','VALIDADE', 'PROBLEMA']\n",
    "totvs = pd.read_excel(totvs.shelf_life, header= 4, usecols=col_totvs,engine= 'xlrd')\n",
    "\n",
    "col_bonus = ['NUMBONUS', 'CODPROD', 'CODENDERECO', 'DTVALIDADE']\n",
    "bonus = pd.read_excel(ar_xlsx.ar_64, usecols= col_bonus)"
   ]
  },
  {
   "cell_type": "code",
   "execution_count": 42,
   "id": "f6499e84",
   "metadata": {},
   "outputs": [
    {
     "data": {
      "text/plain": [
       "Index(['DATA', 'CONFERENCIA', 'PRODUTO', 'VALIDADE', 'PROBLEMA', 'COD', 'DESC',\n",
       "       'ID_VAR'],\n",
       "      dtype='object')"
      ]
     },
     "metadata": {},
     "output_type": "display_data"
    },
    {
     "data": {
      "text/plain": [
       "DATA                   object\n",
       "CONFERENCIA            object\n",
       "PRODUTO                object\n",
       "VALIDADE       datetime64[ns]\n",
       "PROBLEMA               object\n",
       "COD                     int64\n",
       "DESC                   object\n",
       "ID_VAR                 object\n",
       "dtype: object"
      ]
     },
     "metadata": {},
     "output_type": "display_data"
    },
    {
     "data": {
      "text/html": [
       "<div>\n",
       "<style scoped>\n",
       "    .dataframe tbody tr th:only-of-type {\n",
       "        vertical-align: middle;\n",
       "    }\n",
       "\n",
       "    .dataframe tbody tr th {\n",
       "        vertical-align: top;\n",
       "    }\n",
       "\n",
       "    .dataframe thead th {\n",
       "        text-align: right;\n",
       "    }\n",
       "</style>\n",
       "<table border=\"1\" class=\"dataframe\">\n",
       "  <thead>\n",
       "    <tr style=\"text-align: right;\">\n",
       "      <th></th>\n",
       "      <th>DATA</th>\n",
       "      <th>CONFERENCIA</th>\n",
       "      <th>PRODUTO</th>\n",
       "      <th>VALIDADE</th>\n",
       "      <th>PROBLEMA</th>\n",
       "      <th>COD</th>\n",
       "      <th>DESC</th>\n",
       "      <th>ID_VAR</th>\n",
       "    </tr>\n",
       "  </thead>\n",
       "  <tbody>\n",
       "    <tr>\n",
       "      <th>0</th>\n",
       "      <td>03/09/2025</td>\n",
       "      <td>285597</td>\n",
       "      <td>465370 - MARGARINA CREMOSY BD 50% LIP 14,5K</td>\n",
       "      <td>2026-05-05</td>\n",
       "      <td>SHELF-LIFE ACIMA DO PRAZO DE VALIDADE</td>\n",
       "      <td>465370</td>\n",
       "      <td>MARGARINA CREMOSY BD 50% LIP 14,5K</td>\n",
       "      <td>285597-465370-2026-05-05</td>\n",
       "    </tr>\n",
       "    <tr>\n",
       "      <th>1</th>\n",
       "      <td>03/09/2025</td>\n",
       "      <td>285598</td>\n",
       "      <td>442902 - DES REXONA AERO 90G/150M MASC INVISIBL</td>\n",
       "      <td>2028-08-21</td>\n",
       "      <td>SHELF-LIFE ACIMA DO PRAZO DE VALIDADE</td>\n",
       "      <td>442902</td>\n",
       "      <td>DES REXONA AERO 90G/150M MASC INVISIBL</td>\n",
       "      <td>285598-442902-2028-08-21</td>\n",
       "    </tr>\n",
       "    <tr>\n",
       "      <th>2</th>\n",
       "      <td>03/09/2025</td>\n",
       "      <td>285598</td>\n",
       "      <td>475059 - DES DOVE AERO 87GR FEM PESSEGO LEITE</td>\n",
       "      <td>2028-08-01</td>\n",
       "      <td>SHELF-LIFE ACIMA DO PRAZO DE VALIDADE</td>\n",
       "      <td>475059</td>\n",
       "      <td>DES DOVE AERO 87GR FEM PESSEGO LEITE</td>\n",
       "      <td>285598-475059-2028-08-01</td>\n",
       "    </tr>\n",
       "    <tr>\n",
       "      <th>3</th>\n",
       "      <td>03/09/2025</td>\n",
       "      <td>285599</td>\n",
       "      <td>458223 - BISC MARIL TEENS 80GR BAUNY</td>\n",
       "      <td>2026-03-04</td>\n",
       "      <td>SHELF-LIFE ABAIXO DO PERCENTUAL DE TOLER NCIA</td>\n",
       "      <td>458223</td>\n",
       "      <td>BISC MARIL TEENS 80GR BAUNY</td>\n",
       "      <td>285599-458223-2026-03-04</td>\n",
       "    </tr>\n",
       "    <tr>\n",
       "      <th>4</th>\n",
       "      <td>03/09/2025</td>\n",
       "      <td>285599</td>\n",
       "      <td>458224 - BISC MARIL TEENS 80GR CHOCOLATE</td>\n",
       "      <td>2026-06-09</td>\n",
       "      <td>SHELF-LIFE ACIMA DO PRAZO DE VALIDADE</td>\n",
       "      <td>458224</td>\n",
       "      <td>BISC MARIL TEENS 80GR CHOCOLATE</td>\n",
       "      <td>285599-458224-2026-06-09</td>\n",
       "    </tr>\n",
       "  </tbody>\n",
       "</table>\n",
       "</div>"
      ],
      "text/plain": [
       "         DATA CONFERENCIA                                          PRODUTO  \\\n",
       "0  03/09/2025      285597      465370 - MARGARINA CREMOSY BD 50% LIP 14,5K   \n",
       "1  03/09/2025      285598  442902 - DES REXONA AERO 90G/150M MASC INVISIBL   \n",
       "2  03/09/2025      285598    475059 - DES DOVE AERO 87GR FEM PESSEGO LEITE   \n",
       "3  03/09/2025      285599             458223 - BISC MARIL TEENS 80GR BAUNY   \n",
       "4  03/09/2025      285599         458224 - BISC MARIL TEENS 80GR CHOCOLATE   \n",
       "\n",
       "    VALIDADE                                       PROBLEMA     COD  \\\n",
       "0 2026-05-05          SHELF-LIFE ACIMA DO PRAZO DE VALIDADE  465370   \n",
       "1 2028-08-21          SHELF-LIFE ACIMA DO PRAZO DE VALIDADE  442902   \n",
       "2 2028-08-01          SHELF-LIFE ACIMA DO PRAZO DE VALIDADE  475059   \n",
       "3 2026-03-04  SHELF-LIFE ABAIXO DO PERCENTUAL DE TOLER NCIA  458223   \n",
       "4 2026-06-09          SHELF-LIFE ACIMA DO PRAZO DE VALIDADE  458224   \n",
       "\n",
       "                                      DESC                    ID_VAR  \n",
       "0       MARGARINA CREMOSY BD 50% LIP 14,5K  285597-465370-2026-05-05  \n",
       "1   DES REXONA AERO 90G/150M MASC INVISIBL  285598-442902-2028-08-21  \n",
       "2     DES DOVE AERO 87GR FEM PESSEGO LEITE  285598-475059-2028-08-01  \n",
       "3              BISC MARIL TEENS 80GR BAUNY  285599-458223-2026-03-04  \n",
       "4          BISC MARIL TEENS 80GR CHOCOLATE  285599-458224-2026-06-09  "
      ]
     },
     "metadata": {},
     "output_type": "display_data"
    }
   ],
   "source": [
    "totvs['COD'] = (totvs['PRODUTO'].str.split(\"-\").str[0]).astype(int)\n",
    "totvs['DESC'] = (totvs['PRODUTO'].str.split(\"-\").str[1])\n",
    "totvs['CONFERENCIA'] = totvs['CONFERENCIA'].astype(str)\n",
    "totvs['CONFERENCIA'] = totvs['CONFERENCIA'].str.replace(\".\", \"\")\n",
    "totvs['VALIDADE'] = pd.to_datetime(totvs['VALIDADE'],dayfirst=True)\n",
    "totvs['ID_VAR'] = totvs['CONFERENCIA'].astype(str) + \"-\" + totvs['COD'].astype(str) + \"-\" + totvs['VALIDADE'].astype(str)\n",
    "\n",
    "bonus['ID_VAR'] = bonus['NUMBONUS'].astype(str) + \"-\" + bonus['CODPROD'].astype(str) + \"-\" + bonus['DTVALIDADE'].astype(str)\n",
    "display(totvs.columns)\n",
    "display(totvs.dtypes)\n",
    "display(totvs.head())\n",
    "\n"
   ]
  }
 ],
 "metadata": {
  "kernelspec": {
   "display_name": ".venv",
   "language": "python",
   "name": "python3"
  },
  "language_info": {
   "codemirror_mode": {
    "name": "ipython",
    "version": 3
   },
   "file_extension": ".py",
   "mimetype": "text/x-python",
   "name": "python",
   "nbconvert_exporter": "python",
   "pygments_lexer": "ipython3",
   "version": "3.13.7"
  }
 },
 "nbformat": 4,
 "nbformat_minor": 5
}
