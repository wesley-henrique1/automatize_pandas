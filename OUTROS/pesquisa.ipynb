{
 "cells": [
  {
   "cell_type": "code",
   "execution_count": 1,
   "id": "44118fba",
   "metadata": {},
   "outputs": [],
   "source": [
    "from path_arquivos import *\n",
    "import pandas as pd\n",
    "import numpy as np\n",
    "import glob\n",
    "import os\n",
    "caminho = ar_xlsx.ar_96"
   ]
  },
  {
   "cell_type": "code",
   "execution_count": 3,
   "id": "623793b7",
   "metadata": {},
   "outputs": [
    {
     "name": "stderr",
     "output_type": "stream",
     "text": [
      "c:\\WS_OLIVEIRA\\SCRIPTS\\.venv\\Lib\\site-packages\\openpyxl\\styles\\stylesheet.py:237: UserWarning: Workbook contains no default style, apply openpyxl's default\n",
      "  warn(\"Workbook contains no default style, apply openpyxl's default\")\n"
     ]
    },
    {
     "data": {
      "text/plain": [
       "CODFILIAL              int64\n",
       "CODPROD                int64\n",
       "DESCRICAO             object\n",
       "OBS2                  object\n",
       "CODAUXILIAR2         float64\n",
       "CODAUXILIAR          float64\n",
       "EMBALAGEM             object\n",
       "EMBALAGEMMASTER       object\n",
       "QTUNITCX               int64\n",
       "CODSEC                 int64\n",
       "SECAO                 object\n",
       "LASTROPAL              int64\n",
       "ALTURAPAL              int64\n",
       "QTTOTPAL               int64\n",
       "ALTURAM3             float64\n",
       "LARGURAM3            float64\n",
       "COMPRIMENTOM3        float64\n",
       "ALTURAARM            float64\n",
       "LARGURAARM           float64\n",
       "COMPRIMENTOARM       float64\n",
       "PESOBRUTOMASTER      float64\n",
       "PESOLIQMASTER        float64\n",
       "PESOBRUTO            float64\n",
       "PESOLIQ              float64\n",
       "CAPACIDADE             int64\n",
       "ABASTECEPALETE        object\n",
       "USAWMS                object\n",
       "REVENDA               object\n",
       "TIPOPROD             float64\n",
       "CODFORNEC              int64\n",
       "FORNECEDOR            object\n",
       "TIPO                  object\n",
       "PONTOREPOSICAO         int64\n",
       "RUA                    int64\n",
       "PREDIO                 int64\n",
       "NIVEL                  int64\n",
       "APTO                   int64\n",
       "PKESTRU               object\n",
       "PK_END                object\n",
       "CARACTERISTICA        object\n",
       "PULMAO                object\n",
       "TIPO_1                object\n",
       "PRAZOVAL             float64\n",
       "PERCTOLERANCIAVAL    float64\n",
       "DTULTENT              object\n",
       "dtype: object"
      ]
     },
     "metadata": {},
     "output_type": "display_data"
    },
    {
     "data": {
      "text/plain": [
       "Index(['CODFILIAL', 'CODPROD', 'DESCRICAO', 'OBS2', 'CODAUXILIAR2',\n",
       "       'CODAUXILIAR', 'EMBALAGEM', 'EMBALAGEMMASTER', 'QTUNITCX', 'CODSEC',\n",
       "       'SECAO', 'LASTROPAL', 'ALTURAPAL', 'QTTOTPAL', 'ALTURAM3', 'LARGURAM3',\n",
       "       'COMPRIMENTOM3', 'ALTURAARM', 'LARGURAARM', 'COMPRIMENTOARM',\n",
       "       'PESOBRUTOMASTER', 'PESOLIQMASTER', 'PESOBRUTO', 'PESOLIQ',\n",
       "       'CAPACIDADE', 'ABASTECEPALETE', 'USAWMS', 'REVENDA', 'TIPOPROD',\n",
       "       'CODFORNEC', 'FORNECEDOR', 'TIPO', 'PONTOREPOSICAO', 'RUA', 'PREDIO',\n",
       "       'NIVEL', 'APTO', 'PKESTRU', 'PK_END', 'CARACTERISTICA', 'PULMAO',\n",
       "       'TIPO_1', 'PRAZOVAL', 'PERCTOLERANCIAVAL', 'DTULTENT'],\n",
       "      dtype='object')"
      ]
     },
     "metadata": {},
     "output_type": "display_data"
    }
   ],
   "source": [
    "df = pd.read_excel(caminho)\n",
    "display(df.dtypes)\n",
    "display(df.columns)"
   ]
  }
 ],
 "metadata": {
  "kernelspec": {
   "display_name": ".venv",
   "language": "python",
   "name": "python3"
  },
  "language_info": {
   "codemirror_mode": {
    "name": "ipython",
    "version": 3
   },
   "file_extension": ".py",
   "mimetype": "text/x-python",
   "name": "python",
   "nbconvert_exporter": "python",
   "pygments_lexer": "ipython3",
   "version": "3.13.7"
  }
 },
 "nbformat": 4,
 "nbformat_minor": 5
}
