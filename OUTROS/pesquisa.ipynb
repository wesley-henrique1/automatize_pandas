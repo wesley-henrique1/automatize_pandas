{
 "cells": [
  {
   "cell_type": "code",
   "execution_count": 27,
   "id": "4e24968f",
   "metadata": {},
   "outputs": [],
   "source": [
    "from path_arquivos import *\n",
    "import pandas as pd\n",
    "\n",
    "df = pd.read_csv(ar_csv.ar_end, header= None,  usecols= [0,1,2,3,4, 6, 7, 18,19])\n",
    "\n",
    "df.columns = ['COD_END', 'RUA', 'PREDIO', 'NIVEL', 'APTO', 'COD', 'DESC', 'ENTREDA', 'SAIDA']"
   ]
  },
  {
   "cell_type": "code",
   "execution_count": 35,
   "id": "65bb4754",
   "metadata": {},
   "outputs": [
    {
     "data": {
      "text/html": [
       "<div>\n",
       "<style scoped>\n",
       "    .dataframe tbody tr th:only-of-type {\n",
       "        vertical-align: middle;\n",
       "    }\n",
       "\n",
       "    .dataframe tbody tr th {\n",
       "        vertical-align: top;\n",
       "    }\n",
       "\n",
       "    .dataframe thead th {\n",
       "        text-align: right;\n",
       "    }\n",
       "</style>\n",
       "<table border=\"1\" class=\"dataframe\">\n",
       "  <thead>\n",
       "    <tr style=\"text-align: right;\">\n",
       "      <th></th>\n",
       "      <th>COD_END</th>\n",
       "      <th>RUA</th>\n",
       "      <th>PREDIO</th>\n",
       "      <th>NIVEL</th>\n",
       "      <th>APTO</th>\n",
       "      <th>COD</th>\n",
       "      <th>DESC</th>\n",
       "      <th>ENTREDA</th>\n",
       "      <th>SAIDA</th>\n",
       "    </tr>\n",
       "  </thead>\n",
       "  <tbody>\n",
       "    <tr>\n",
       "      <th>4</th>\n",
       "      <td>1000235</td>\n",
       "      <td>1</td>\n",
       "      <td>1</td>\n",
       "      <td>4</td>\n",
       "      <td>401</td>\n",
       "      <td>0</td>\n",
       "      <td>&lt;VAZIO&gt;</td>\n",
       "      <td>0</td>\n",
       "      <td>0</td>\n",
       "    </tr>\n",
       "    <tr>\n",
       "      <th>10</th>\n",
       "      <td>1000129</td>\n",
       "      <td>1</td>\n",
       "      <td>3</td>\n",
       "      <td>3</td>\n",
       "      <td>301</td>\n",
       "      <td>0</td>\n",
       "      <td>&lt;VAZIO&gt;</td>\n",
       "      <td>0</td>\n",
       "      <td>0</td>\n",
       "    </tr>\n",
       "    <tr>\n",
       "      <th>17</th>\n",
       "      <td>1000024</td>\n",
       "      <td>1</td>\n",
       "      <td>5</td>\n",
       "      <td>2</td>\n",
       "      <td>202</td>\n",
       "      <td>0</td>\n",
       "      <td>&lt;VAZIO&gt;</td>\n",
       "      <td>0</td>\n",
       "      <td>0</td>\n",
       "    </tr>\n",
       "    <tr>\n",
       "      <th>18</th>\n",
       "      <td>1000131</td>\n",
       "      <td>1</td>\n",
       "      <td>5</td>\n",
       "      <td>3</td>\n",
       "      <td>301</td>\n",
       "      <td>0</td>\n",
       "      <td>&lt;VAZIO&gt;</td>\n",
       "      <td>0</td>\n",
       "      <td>0</td>\n",
       "    </tr>\n",
       "    <tr>\n",
       "      <th>20</th>\n",
       "      <td>1000239</td>\n",
       "      <td>1</td>\n",
       "      <td>5</td>\n",
       "      <td>4</td>\n",
       "      <td>401</td>\n",
       "      <td>0</td>\n",
       "      <td>&lt;VAZIO&gt;</td>\n",
       "      <td>0</td>\n",
       "      <td>0</td>\n",
       "    </tr>\n",
       "  </tbody>\n",
       "</table>\n",
       "</div>"
      ],
      "text/plain": [
       "    COD_END  RUA  PREDIO  NIVEL  APTO  COD       DESC  ENTREDA  SAIDA\n",
       "4   1000235    1       1      4   401    0   <VAZIO>         0      0\n",
       "10  1000129    1       3      3   301    0   <VAZIO>         0      0\n",
       "17  1000024    1       5      2   202    0   <VAZIO>         0      0\n",
       "18  1000131    1       5      3   301    0   <VAZIO>         0      0\n",
       "20  1000239    1       5      4   401    0   <VAZIO>         0      0"
      ]
     },
     "metadata": {},
     "output_type": "display_data"
    },
    {
     "data": {
      "text/plain": [
       "COD_END     int64\n",
       "RUA         int64\n",
       "PREDIO      int64\n",
       "NIVEL       int64\n",
       "APTO        int64\n",
       "COD         int64\n",
       "DESC       object\n",
       "ENTREDA     int64\n",
       "SAIDA       int64\n",
       "dtype: object"
      ]
     },
     "metadata": {},
     "output_type": "display_data"
    }
   ],
   "source": [
    "cheio = df.loc[df['COD'] != 0]\n",
    "cheio = cheio.loc[(cheio['ENTREDA'] == 0) & (cheio['SAIDA'] == 0)]\n",
    "\n",
    "vazio = df.loc[df['COD'] == 0]\n",
    "\n",
    "display(vazio.head())\n",
    "display(vazio.dtypes)\n",
    "\n"
   ]
  }
 ],
 "metadata": {
  "kernelspec": {
   "display_name": ".venv",
   "language": "python",
   "name": "python3"
  },
  "language_info": {
   "codemirror_mode": {
    "name": "ipython",
    "version": 3
   },
   "file_extension": ".py",
   "mimetype": "text/x-python",
   "name": "python",
   "nbconvert_exporter": "python",
   "pygments_lexer": "ipython3",
   "version": "3.13.7"
  }
 },
 "nbformat": 4,
 "nbformat_minor": 5
}
