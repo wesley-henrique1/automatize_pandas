{
 "cells": [
  {
   "cell_type": "code",
   "execution_count": 38,
   "id": "e460d394",
   "metadata": {},
   "outputs": [
    {
     "name": "stderr",
     "output_type": "stream",
     "text": [
      "c:\\WS_OLIVEIRA\\SCRIPTS\\.venv\\Lib\\site-packages\\openpyxl\\styles\\stylesheet.py:237: UserWarning: Workbook contains no default style, apply openpyxl's default\n",
      "  warn(\"Workbook contains no default style, apply openpyxl's default\")\n"
     ]
    }
   ],
   "source": [
    "import pandas as pd\n",
    "import numpy as np\n",
    "path_mapa = r'c:\\Users\\wesley.oliveira\\Desktop\\PRODUTOS PARA TRANSFERENCIA.xlsx'\n",
    "path_8596 = r'c:\\WS_OLIVEIRA\\BASE_DADOS\\8596 - Dados logistico produtos WMS.xlsx'\n",
    "\n",
    "df_96 = pd.read_excel(path_8596, usecols= ['CODPROD', 'DESCRICAO','OBS2','RUA','PREDIO','APTO'])\n",
    "df_96['concat'] = df_96['RUA'].astype(str) + \"-\" + df_96['PREDIO'].astype(str) + \"-\" + df_96['APTO'].astype(str)\n",
    "df_mapa = pd.read_excel(path_mapa, sheet_name= 'resalva')\n",
    "\n",
    "df = df_mapa.merge(df_96, left_on= 'cod', right_on= 'CODPROD', how= 'left')\n",
    "df = df.drop(columns=['CODPROD', 'DESCRICAO', 'OBS2','RUA_x', 'PREDIO_x', 'NIVEL_B', 'APTO_x'])\n",
    "\n",
    "\n"
   ]
  },
  {
   "cell_type": "code",
   "execution_count": 39,
   "id": "c05e39d5",
   "metadata": {},
   "outputs": [
    {
     "data": {
      "text/html": [
       "<div>\n",
       "<style scoped>\n",
       "    .dataframe tbody tr th:only-of-type {\n",
       "        vertical-align: middle;\n",
       "    }\n",
       "\n",
       "    .dataframe tbody tr th {\n",
       "        vertical-align: top;\n",
       "    }\n",
       "\n",
       "    .dataframe thead th {\n",
       "        text-align: right;\n",
       "    }\n",
       "</style>\n",
       "<table border=\"1\" class=\"dataframe\">\n",
       "  <thead>\n",
       "    <tr style=\"text-align: right;\">\n",
       "      <th></th>\n",
       "      <th>cod</th>\n",
       "      <th>desc</th>\n",
       "      <th>concat_x</th>\n",
       "      <th>RUA_y</th>\n",
       "      <th>PREDIO_y</th>\n",
       "      <th>APTO_y</th>\n",
       "      <th>concat_y</th>\n",
       "      <th>validar</th>\n",
       "    </tr>\n",
       "  </thead>\n",
       "  <tbody>\n",
       "    <tr>\n",
       "      <th>38</th>\n",
       "      <td>465098</td>\n",
       "      <td>BOLINHO BAUDUCCO 40GR DUPLO CHOCOLATE</td>\n",
       "      <td>12-17-101</td>\n",
       "      <td>12.0</td>\n",
       "      <td>72.0</td>\n",
       "      <td>104.0</td>\n",
       "      <td>12-72-104</td>\n",
       "      <td>divergente</td>\n",
       "    </tr>\n",
       "    <tr>\n",
       "      <th>44</th>\n",
       "      <td>469182</td>\n",
       "      <td>BISC CORY 100GR RECH HIPOPO CHOCOLATE</td>\n",
       "      <td>2-47-102</td>\n",
       "      <td>NaN</td>\n",
       "      <td>NaN</td>\n",
       "      <td>NaN</td>\n",
       "      <td>NaN</td>\n",
       "      <td>divergente</td>\n",
       "    </tr>\n",
       "    <tr>\n",
       "      <th>49</th>\n",
       "      <td>466397</td>\n",
       "      <td>PAO DE FORMA BAUDUCCO 390GR INTEGRAL</td>\n",
       "      <td>3-55-101</td>\n",
       "      <td>70.0</td>\n",
       "      <td>6.0</td>\n",
       "      <td>112.0</td>\n",
       "      <td>70-6-112</td>\n",
       "      <td>divergente</td>\n",
       "    </tr>\n",
       "    <tr>\n",
       "      <th>83</th>\n",
       "      <td>452678</td>\n",
       "      <td>COCO RALADO ADEL COCO 1KG ADOC FLOCOS UM</td>\n",
       "      <td>12-72-104</td>\n",
       "      <td>12.0</td>\n",
       "      <td>81.0</td>\n",
       "      <td>102.0</td>\n",
       "      <td>12-81-102</td>\n",
       "      <td>divergente</td>\n",
       "    </tr>\n",
       "  </tbody>\n",
       "</table>\n",
       "</div>"
      ],
      "text/plain": [
       "       cod                                      desc   concat_x  RUA_y  \\\n",
       "38  465098     BOLINHO BAUDUCCO 40GR DUPLO CHOCOLATE  12-17-101   12.0   \n",
       "44  469182     BISC CORY 100GR RECH HIPOPO CHOCOLATE   2-47-102    NaN   \n",
       "49  466397      PAO DE FORMA BAUDUCCO 390GR INTEGRAL   3-55-101   70.0   \n",
       "83  452678  COCO RALADO ADEL COCO 1KG ADOC FLOCOS UM  12-72-104   12.0   \n",
       "\n",
       "    PREDIO_y  APTO_y   concat_y     validar  \n",
       "38      72.0   104.0  12-72-104  divergente  \n",
       "44       NaN     NaN        NaN  divergente  \n",
       "49       6.0   112.0   70-6-112  divergente  \n",
       "83      81.0   102.0  12-81-102  divergente  "
      ]
     },
     "metadata": {},
     "output_type": "display_data"
    }
   ],
   "source": [
    "df['validar'] = np.where(df['concat_x'] == df['concat_y'], \"ok\", \"divergente\")\n",
    "\n",
    "display(df.loc[df['validar'] == \"divergente\"])\n"
   ]
  }
 ],
 "metadata": {
  "kernelspec": {
   "display_name": ".venv",
   "language": "python",
   "name": "python3"
  },
  "language_info": {
   "codemirror_mode": {
    "name": "ipython",
    "version": 3
   },
   "file_extension": ".py",
   "mimetype": "text/x-python",
   "name": "python",
   "nbconvert_exporter": "python",
   "pygments_lexer": "ipython3",
   "version": "3.13.7"
  }
 },
 "nbformat": 4,
 "nbformat_minor": 5
}
