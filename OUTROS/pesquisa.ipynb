{
 "cells": [
  {
   "cell_type": "code",
   "execution_count": null,
   "id": "44118fba",
   "metadata": {},
   "outputs": [
    {
     "name": "stderr",
     "output_type": "stream",
     "text": [
      "c:\\WS_OLIVEIRA\\SCRIPTS\\.venv\\Lib\\site-packages\\openpyxl\\styles\\stylesheet.py:237: UserWarning: Workbook contains no default style, apply openpyxl's default\n",
      "  warn(\"Workbook contains no default style, apply openpyxl's default\")\n"
     ]
    }
   ],
   "source": [
    "from path_arquivos import *\n",
    "import pandas as pd\n",
    "import numpy as np\n",
    "import glob\n",
    "import os\n",
    "base = pd.read_excel(ar_xlsx.ar_96, usecols=['CODPROD', 'DESCRICAO'])"
   ]
  },
  {
   "cell_type": "code",
   "execution_count": null,
   "id": "623793b7",
   "metadata": {},
   "outputs": [],
   "source": [
    "df = base.loc[base['RUA'].between(1,39)].copy()\n",
    "dic_raname = {\n",
    "    'ABASTECEPALETE' : 'FLEG_ABST',\n",
    "    'CAPACIDADE' : 'CAP'\n",
    "}\n",
    "df = df.rename(columns=dic_raname)\n",
    "concat = df['RUA'].astype(str) + \" - \" + df['PREDIO'].astype(str)\n",
    "\n",
    "df['extrator'] = df['EMBALAGEMMASTER'].str.extract(r'(\\d+)').astype(int)\n",
    "df['volume_master'] = df['ALTURAARM'].astype(float) * df['LARGURAARM'].astype(float) * df['COMPRIMENTOARM'].astype(float) \n",
    "df['volume_venda'] = (df['ALTURAM3'].astype(float) * df['LARGURAM3'].astype(float) * df['COMPRIMENTOM3'].astype(float)) * df['extrator']\n",
    "df['CONT_AP'] = concat.map(concat.value_counts())\n",
    "df['STATUS_PROD'] = np.where(df['CONT_AP'] > 3, \"DIV\", \n",
    "    np.where(df['CONT_AP'] > 2,\"VAL\", \"INT\"))\n",
    "\n",
    "df[\"VAR_CAP\"] = np.where((df['CAP'] > df['QTTOTPAL']) & (df['STATUS_PROD'] != \"INT\"), \"DIVERGENCIA\", \"NORMAL\")\n",
    "df['VAR_ABST'] =    np.where((df['FLEG_ABST'] == 'SIM') & (df['STATUS_PROD'] == \"INT\"), \"NORMAL\",\n",
    "                    np.where((df['FLEG_ABST']== 'NÃO') & (df['STATUS_PROD'] == \"DIV\"), \"NORMAL\",\n",
    "                    \"DIVERGENCIA\"))\n",
    "\n",
    "df['VAR_CUBAGEM'] = np.where(df['volume_master'] < df['volume_venda'], \"DIVERGENCIA\", \"NORMAL\")\n",
    "\n",
    "drop_col = ['PKESTRU', 'PK_END', 'CARACTERISTICA', 'PULMAO','TIPO_1', 'PRAZOVAL', 'PERCTOLERANCIAVAL', 'DTULTENT','USAWMS', 'REVENDA', 'TIPOPROD','CODFORNEC', 'FORNECEDOR', 'TIPO', 'PONTOREPOSICAO','CODAUXILIAR', 'EMBALAGEM', 'EMBALAGEMMASTER', 'QTUNITCX', 'CODSEC','SECAO', 'LASTROPAL', 'ALTURAPAL', 'QTTOTPAL', 'ALTURAM3', 'LARGURAM3','COMPRIMENTOM3', 'ALTURAARM', 'LARGURAARM', 'COMPRIMENTOARM','PESOBRUTOMASTER', 'PESOLIQMASTER', 'PESOBRUTO', 'PESOLIQ','OBS2', 'CODAUXILIAR2','volume_venda', 'volume_master','CODFILIAL']\n",
    "df = df.drop(columns=drop_col)"
   ]
  },
  {
   "cell_type": "code",
   "execution_count": 86,
   "id": "bcd06b57",
   "metadata": {},
   "outputs": [
    {
     "data": {
      "text/plain": [
       "Index(['CODFILIAL', 'CODPROD', 'DESCRICAO', 'CAP', 'FLEG_ABST', 'RUA',\n",
       "       'PREDIO', 'NIVEL', 'APTO', 'extrator', 'CONT_AP', 'STATUS_PROD',\n",
       "       'VAR_CAP', 'VAR_ABST', 'VAR_CUBAGEM'],\n",
       "      dtype='object')"
      ]
     },
     "metadata": {},
     "output_type": "display_data"
    },
    {
     "data": {
      "text/html": [
       "<div>\n",
       "<style scoped>\n",
       "    .dataframe tbody tr th:only-of-type {\n",
       "        vertical-align: middle;\n",
       "    }\n",
       "\n",
       "    .dataframe tbody tr th {\n",
       "        vertical-align: top;\n",
       "    }\n",
       "\n",
       "    .dataframe thead th {\n",
       "        text-align: right;\n",
       "    }\n",
       "</style>\n",
       "<table border=\"1\" class=\"dataframe\">\n",
       "  <thead>\n",
       "    <tr style=\"text-align: right;\">\n",
       "      <th></th>\n",
       "      <th>VAR_CUBAGEM</th>\n",
       "      <th>TT_PROD</th>\n",
       "    </tr>\n",
       "  </thead>\n",
       "  <tbody>\n",
       "    <tr>\n",
       "      <th>0</th>\n",
       "      <td>DIVERGENCIA</td>\n",
       "      <td>4320</td>\n",
       "    </tr>\n",
       "    <tr>\n",
       "      <th>1</th>\n",
       "      <td>NORMAL</td>\n",
       "      <td>5641</td>\n",
       "    </tr>\n",
       "  </tbody>\n",
       "</table>\n",
       "</div>"
      ],
      "text/plain": [
       "   VAR_CUBAGEM  TT_PROD\n",
       "0  DIVERGENCIA     4320\n",
       "1       NORMAL     5641"
      ]
     },
     "metadata": {},
     "output_type": "display_data"
    }
   ],
   "source": [
    "\n",
    "var_cap = df.groupby(\"VAR_CAP\").agg(\n",
    "            TT_PROD = ('CODPROD', 'nunique')\n",
    "        ).reset_index()\n",
    "\n",
    "var_abst = df.groupby(\"VAR_ABST\").agg(\n",
    "            TT_PROD = ('CODPROD', 'nunique')\n",
    "        ).reset_index()\n",
    "\n",
    "var_cubagem = df.groupby(\"VAR_CUBAGEM\").agg(\n",
    "            TT_PROD = ('CODPROD', 'nunique')\n",
    "        ).reset_index()\n",
    "display(df.columns)\n",
    "display(var_cubagem)\n"
   ]
  }
 ],
 "metadata": {
  "kernelspec": {
   "display_name": ".venv",
   "language": "python",
   "name": "python3"
  },
  "language_info": {
   "codemirror_mode": {
    "name": "ipython",
    "version": 3
   },
   "file_extension": ".py",
   "mimetype": "text/x-python",
   "name": "python",
   "nbconvert_exporter": "python",
   "pygments_lexer": "ipython3",
   "version": "3.13.7"
  }
 },
 "nbformat": 4,
 "nbformat_minor": 5
}
