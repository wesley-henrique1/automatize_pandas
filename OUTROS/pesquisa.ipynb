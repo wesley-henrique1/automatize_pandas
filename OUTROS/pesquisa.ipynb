{
 "cells": [
  {
   "cell_type": "code",
   "execution_count": 41,
   "id": "4e24968f",
   "metadata": {},
   "outputs": [
    {
     "name": "stderr",
     "output_type": "stream",
     "text": [
      "c:\\WS_OLIVEIRA\\SCRIPTS\\.venv\\Lib\\site-packages\\openpyxl\\styles\\stylesheet.py:237: UserWarning: Workbook contains no default style, apply openpyxl's default\n",
      "  warn(\"Workbook contains no default style, apply openpyxl's default\")\n",
      "c:\\WS_OLIVEIRA\\SCRIPTS\\.venv\\Lib\\site-packages\\openpyxl\\styles\\stylesheet.py:237: UserWarning: Workbook contains no default style, apply openpyxl's default\n",
      "  warn(\"Workbook contains no default style, apply openpyxl's default\")\n"
     ]
    }
   ],
   "source": [
    "from path_arquivos import *\n",
    "import pandas as pd\n",
    "import numpy as np\n",
    "\n",
    "# PATH DAS BASES\n",
    "p_sug = r'z:\\1 - CD Dia\\4 - Equipe PCL\\6.1 - Inteligência Logística\\Wesley Henrique\\CALIBRAÇÃO FILIAL 11\\RUA 13 FINI\\SUGESTAO.txt'\n",
    "p_movi = r'z:\\1 - CD Dia\\4 - Equipe PCL\\6.1 - Inteligência Logística\\Wesley Henrique\\CALIBRAÇÃO FILIAL 11\\RUA 13 FINI\\MOVI.txt'\n",
    "p_acesso = r'z:\\1 - CD Dia\\4 - Equipe PCL\\6.1 - Inteligência Logística\\Wesley Henrique\\CALIBRAÇÃO FILIAL 11\\RUA 13 FINI\\acesso.xlsx'\n",
    "p_prod = r'z:\\1 - CD Dia\\4 - Equipe PCL\\6.1 - Inteligência Logística\\Wesley Henrique\\CALIBRAÇÃO FILIAL 11\\RUA 13 FINI\\PROD.xlsx'\n",
    "\n",
    "df_sug = pd.read_csv(p_sug, header= None, names= col_name.c82)\n",
    "df_movi = pd.read_csv(p_movi, header= None, names= col_name.cMovi)\n",
    "df_acesso = pd.read_excel(p_acesso, usecols= ['CODPROD', 'QTOS'])\n",
    "df_prod = pd.read_excel(p_prod, usecols= ['CODPROD','OBS2', 'QTUNITCX', 'QTTOTPAL'])\n"
   ]
  },
  {
   "cell_type": "code",
   "execution_count": 38,
   "id": "baa3f5b5",
   "metadata": {},
   "outputs": [
    {
     "data": {
      "text/plain": [
       "Index(['COD', 'DESCRIÇÃO', 'EMBALAGEM', 'UNID.', 'DEP', 'RUA', 'PREDIO',\n",
       "       'NIVEL', 'APTO', 'MÊS 1', 'MÊS 2', 'MÊS 3', 'TIPO', 'CAP', '1 DIA',\n",
       "       'COM FATOR', 'VARIAÇÃO', '%'],\n",
       "      dtype='object')"
      ]
     },
     "metadata": {},
     "output_type": "display_data"
    },
    {
     "data": {
      "text/plain": [
       "Index(['COD', 'MOVI', 'CLASSE'], dtype='object')"
      ]
     },
     "metadata": {},
     "output_type": "display_data"
    },
    {
     "data": {
      "text/plain": [
       "Index(['CODPROD', 'QTOS'], dtype='object')"
      ]
     },
     "metadata": {},
     "output_type": "display_data"
    },
    {
     "data": {
      "text/plain": [
       "Index(['CODPROD', 'OBS2', 'QTUNITCX', 'QTTOTPAL'], dtype='object')"
      ]
     },
     "metadata": {},
     "output_type": "display_data"
    },
    {
     "data": {
      "text/plain": [
       "COD           int64\n",
       "DESCRIÇÃO    object\n",
       "EMBALAGEM    object\n",
       "UNID.        object\n",
       "DEP           int64\n",
       "RUA           int64\n",
       "PREDIO        int64\n",
       "NIVEL         int64\n",
       "APTO          int64\n",
       "MÊS 1         int64\n",
       "MÊS 2         int64\n",
       "MÊS 3         int64\n",
       "TIPO         object\n",
       "CAP           int64\n",
       "1 DIA         int64\n",
       "COM FATOR     int64\n",
       "VARIAÇÃO      int64\n",
       "%            object\n",
       "dtype: object"
      ]
     },
     "metadata": {},
     "output_type": "display_data"
    },
    {
     "data": {
      "text/plain": [
       "COD        int64\n",
       "MOVI       int64\n",
       "CLASSE    object\n",
       "dtype: object"
      ]
     },
     "metadata": {},
     "output_type": "display_data"
    },
    {
     "data": {
      "text/plain": [
       "CODPROD    int64\n",
       "QTOS       int64\n",
       "dtype: object"
      ]
     },
     "metadata": {},
     "output_type": "display_data"
    },
    {
     "data": {
      "text/plain": [
       "CODPROD      int64\n",
       "OBS2        object\n",
       "QTUNITCX     int64\n",
       "QTTOTPAL     int64\n",
       "dtype: object"
      ]
     },
     "metadata": {},
     "output_type": "display_data"
    }
   ],
   "source": [
    "\n",
    "display(df_sug.columns)\n",
    "display(df_movi.columns)\n",
    "display(df_acesso.columns)\n",
    "display(df_prod.columns)\n",
    "\n",
    "display(df_sug.dtypes)\n",
    "display(df_movi.dtypes)\n",
    "display(df_acesso.dtypes)\n",
    "display(df_prod.dtypes)\n",
    "\n"
   ]
  },
  {
   "cell_type": "code",
   "execution_count": null,
   "id": "d8e8cb22",
   "metadata": {},
   "outputs": [
    {
     "data": {
      "text/plain": [
       "Index(['COD', 'DESCRIÇÃO', 'EMBALAGEM', 'UNID.', 'DEP', 'RUA', 'PREDIO',\n",
       "       'NIVEL', 'APTO', 'MÊS 1', 'MÊS 2', 'MÊS 3', 'TIPO', 'CAP', '1 DIA',\n",
       "       'COM FATOR', 'VARIAÇÃO', '%', 'OBS2', 'QTUNITCX', 'QTTOTPAL', 'MOVI',\n",
       "       'CLASSE', 'QTOS', 'PL_ATUAL', 'PD_SUG'],\n",
       "      dtype='object')"
      ]
     },
     "metadata": {},
     "output_type": "display_data"
    },
    {
     "data": {
      "text/html": [
       "<div>\n",
       "<style scoped>\n",
       "    .dataframe tbody tr th:only-of-type {\n",
       "        vertical-align: middle;\n",
       "    }\n",
       "\n",
       "    .dataframe tbody tr th {\n",
       "        vertical-align: top;\n",
       "    }\n",
       "\n",
       "    .dataframe thead th {\n",
       "        text-align: right;\n",
       "    }\n",
       "</style>\n",
       "<table border=\"1\" class=\"dataframe\">\n",
       "  <thead>\n",
       "    <tr style=\"text-align: right;\">\n",
       "      <th></th>\n",
       "      <th>COD</th>\n",
       "      <th>DESCRIÇÃO</th>\n",
       "      <th>CAP</th>\n",
       "      <th>QTTOTPAL</th>\n",
       "      <th>PL_ATUAL</th>\n",
       "      <th>PD_SUG</th>\n",
       "    </tr>\n",
       "  </thead>\n",
       "  <tbody>\n",
       "    <tr>\n",
       "      <th>0</th>\n",
       "      <td>473176</td>\n",
       "      <td>CHICLE FINI 80GR MELANCIA</td>\n",
       "      <td>390</td>\n",
       "      <td>364</td>\n",
       "      <td>1.07</td>\n",
       "      <td>0.26</td>\n",
       "    </tr>\n",
       "    <tr>\n",
       "      <th>1</th>\n",
       "      <td>473165</td>\n",
       "      <td>BALAS REGALIZ FINI 80GR TUBES TUTT FRUT</td>\n",
       "      <td>424</td>\n",
       "      <td>510</td>\n",
       "      <td>0.83</td>\n",
       "      <td>0.13</td>\n",
       "    </tr>\n",
       "    <tr>\n",
       "      <th>2</th>\n",
       "      <td>473137</td>\n",
       "      <td>BALAS REGALIZ FINI 80GR TUBES SORTIDOS</td>\n",
       "      <td>424</td>\n",
       "      <td>510</td>\n",
       "      <td>0.83</td>\n",
       "      <td>0.09</td>\n",
       "    </tr>\n",
       "    <tr>\n",
       "      <th>3</th>\n",
       "      <td>473594</td>\n",
       "      <td>BALAS GELAT FINI 80GR RATO</td>\n",
       "      <td>390</td>\n",
       "      <td>364</td>\n",
       "      <td>1.07</td>\n",
       "      <td>0.22</td>\n",
       "    </tr>\n",
       "    <tr>\n",
       "      <th>4</th>\n",
       "      <td>473149</td>\n",
       "      <td>MARSHMALLOW FINI 80GR CAMPING</td>\n",
       "      <td>140</td>\n",
       "      <td>126</td>\n",
       "      <td>1.11</td>\n",
       "      <td>0.43</td>\n",
       "    </tr>\n",
       "  </tbody>\n",
       "</table>\n",
       "</div>"
      ],
      "text/plain": [
       "      COD                                DESCRIÇÃO  CAP  QTTOTPAL  PL_ATUAL  \\\n",
       "0  473176                CHICLE FINI 80GR MELANCIA  390       364      1.07   \n",
       "1  473165  BALAS REGALIZ FINI 80GR TUBES TUTT FRUT  424       510      0.83   \n",
       "2  473137   BALAS REGALIZ FINI 80GR TUBES SORTIDOS  424       510      0.83   \n",
       "3  473594               BALAS GELAT FINI 80GR RATO  390       364      1.07   \n",
       "4  473149            MARSHMALLOW FINI 80GR CAMPING  140       126      1.11   \n",
       "\n",
       "   PD_SUG  \n",
       "0    0.26  \n",
       "1    0.13  \n",
       "2    0.09  \n",
       "3    0.22  \n",
       "4    0.43  "
      ]
     },
     "metadata": {},
     "output_type": "display_data"
    }
   ],
   "source": [
    "\n",
    "df_movi = df_movi[['COD', 'MOVI', 'CLASSE']]\n",
    "df_geral = df_sug.merge(df_prod, left_on='COD', right_on='CODPROD', how= 'left').drop(columns= 'CODPROD')\n",
    "df_geral = df_geral.merge(df_movi, left_on= 'COD', right_on='COD', how= 'left')\n",
    "df_geral = df_geral.merge(df_acesso, left_on= 'COD', right_on= 'CODPROD', how= 'left').drop(columns= 'CODPROD')\n",
    "\n",
    "\n",
    "df_geral['PL_ATUAL'] = (df_geral['CAP'].astype(int) / df_geral['QTTOTPAL'].astype(int)).round(2)\n",
    "df_geral['PL_SUG'] = (df_geral['COM FATOR'].astype(int) / df_geral['QTTOTPAL'].astype(int)).round(2)\n",
    "var = df_geral[['COD', 'DESCRIÇÃO', 'CAP','QTTOTPAL', 'PL_ATUAL','PD_SUG']]\n",
    "\n",
    "display(df_geral.columns)\n",
    "display(var.head())"
   ]
  }
 ],
 "metadata": {
  "kernelspec": {
   "display_name": ".venv",
   "language": "python",
   "name": "python3"
  },
  "language_info": {
   "codemirror_mode": {
    "name": "ipython",
    "version": 3
   },
   "file_extension": ".py",
   "mimetype": "text/x-python",
   "name": "python",
   "nbconvert_exporter": "python",
   "pygments_lexer": "ipython3",
   "version": "3.13.7"
  }
 },
 "nbformat": 4,
 "nbformat_minor": 5
}
