{
 "cells": [
  {
   "cell_type": "markdown",
   "id": "a07ea294",
   "metadata": {},
   "source": [
    "CELULA DE IMPORT"
   ]
  },
  {
   "cell_type": "code",
   "execution_count": 2,
   "id": "8396623a",
   "metadata": {},
   "outputs": [],
   "source": [
    "from path_arquivos import *\n",
    "import pandas as pd\n",
    "df = pd.read_csv(ar_csv.ar_07, names= col_name.c07)"
   ]
  },
  {
   "cell_type": "code",
   "execution_count": 3,
   "id": "593b1236",
   "metadata": {},
   "outputs": [
    {
     "data": {
      "text/html": [
       "<div>\n",
       "<style scoped>\n",
       "    .dataframe tbody tr th:only-of-type {\n",
       "        vertical-align: middle;\n",
       "    }\n",
       "\n",
       "    .dataframe tbody tr th {\n",
       "        vertical-align: top;\n",
       "    }\n",
       "\n",
       "    .dataframe thead th {\n",
       "        text-align: right;\n",
       "    }\n",
       "</style>\n",
       "<table border=\"1\" class=\"dataframe\">\n",
       "  <thead>\n",
       "    <tr style=\"text-align: right;\">\n",
       "      <th></th>\n",
       "      <th>COD</th>\n",
       "      <th>DESCRICAO</th>\n",
       "      <th>DEP</th>\n",
       "      <th>RUA</th>\n",
       "      <th>PREDIO</th>\n",
       "      <th>NIVEL</th>\n",
       "      <th>APTO</th>\n",
       "      <th>EMBALAGEM</th>\n",
       "      <th>CAP</th>\n",
       "      <th>P_REP</th>\n",
       "      <th>QTDE_O.S</th>\n",
       "      <th>PICKING</th>\n",
       "      <th>PULMAO</th>\n",
       "      <th>ENDERECO</th>\n",
       "      <th>GERENCIAL</th>\n",
       "    </tr>\n",
       "  </thead>\n",
       "  <tbody>\n",
       "    <tr>\n",
       "      <th>42424</th>\n",
       "      <td>474778</td>\n",
       "      <td>LA ACO BOMBRIL 6UN</td>\n",
       "      <td>1.0</td>\n",
       "      <td>16.0</td>\n",
       "      <td>5.0</td>\n",
       "      <td>1.0</td>\n",
       "      <td>101.0</td>\n",
       "      <td>PT/0020/UN</td>\n",
       "      <td>32.0</td>\n",
       "      <td>8.0</td>\n",
       "      <td>10</td>\n",
       "      <td>4349</td>\n",
       "      <td>209</td>\n",
       "      <td>4.558,00</td>\n",
       "      <td>4.467,00</td>\n",
       "    </tr>\n",
       "  </tbody>\n",
       "</table>\n",
       "</div>"
      ],
      "text/plain": [
       "          COD           DESCRICAO  DEP   RUA  PREDIO  NIVEL   APTO  \\\n",
       "42424  474778  LA ACO BOMBRIL 6UN  1.0  16.0     5.0    1.0  101.0   \n",
       "\n",
       "        EMBALAGEM   CAP  P_REP  QTDE_O.S PICKING PULMAO  ENDERECO GERENCIAL  \n",
       "42424  PT/0020/UN  32.0    8.0        10    4349    209  4.558,00  4.467,00  "
      ]
     },
     "metadata": {},
     "output_type": "display_data"
    }
   ],
   "source": [
    "\n",
    "display(df.loc[df[\"COD\"] == 474778])\n"
   ]
  }
 ],
 "metadata": {
  "kernelspec": {
   "display_name": ".venv",
   "language": "python",
   "name": "python3"
  },
  "language_info": {
   "codemirror_mode": {
    "name": "ipython",
    "version": 3
   },
   "file_extension": ".py",
   "mimetype": "text/x-python",
   "name": "python",
   "nbconvert_exporter": "python",
   "pygments_lexer": "ipython3",
   "version": "3.13.7"
  }
 },
 "nbformat": 4,
 "nbformat_minor": 5
}
